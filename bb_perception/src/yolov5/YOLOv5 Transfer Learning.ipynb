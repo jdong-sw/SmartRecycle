{
 "cells": [
  {
   "cell_type": "markdown",
   "metadata": {},
   "source": [
    "# YOLOv5 Transfer Learning"
   ]
  },
  {
   "cell_type": "markdown",
   "metadata": {},
   "source": [
    "## General Parameters\n",
    "Fill out locations of data and yolo repo."
   ]
  },
  {
   "cell_type": "code",
   "execution_count": 3,
   "metadata": {},
   "outputs": [],
   "source": [
    "# yolov3 project location\n",
    "yolo_directory = './'\n",
    "\n",
    "# Darknet formatted data location\n",
    "data_directory = '../darknet'"
   ]
  },
  {
   "cell_type": "markdown",
   "metadata": {},
   "source": [
    "## Hyperparameters"
   ]
  },
  {
   "cell_type": "code",
   "execution_count": 1,
   "metadata": {},
   "outputs": [],
   "source": [
    "batch_size = 16\n",
    "epochs = 500\n",
    "img_size = 224"
   ]
  },
  {
   "cell_type": "markdown",
   "metadata": {},
   "source": [
    "## Run Training"
   ]
  },
  {
   "cell_type": "code",
   "execution_count": 4,
   "metadata": {},
   "outputs": [
    {
     "name": "stdout",
     "output_type": "stream",
     "text": [
      "Run this command in terminal:\n",
      "python3 ./train.py --batch 16 --weights ./weights/yolov5s.pt --data ../darknet/config.yaml --epochs 500 --cache --img 224 --hyp ./data/hyp.finetune.yaml\n"
     ]
    }
   ],
   "source": [
    "import subprocess\n",
    "from os.path import join\n",
    "\n",
    "script = join(yolo_directory, 'train.py')\n",
    "data = join(data_directory, 'config.yaml')\n",
    "weights = join(yolo_directory, 'weights', 'yolov5s.pt')\n",
    "hyper = join(yolo_directory, 'data', 'hyp.finetune.yaml')\n",
    "\n",
    "command = 'python3 {} --batch {} --weights {} --data {} --epochs {} --cache --img {} --hyp {}'\\\n",
    "            .format(script, batch_size, weights, data, epochs, img_size, hyper)\n",
    "\n",
    "print('Run this command in terminal:')\n",
    "print(command)"
   ]
  },
  {
   "cell_type": "markdown",
   "metadata": {},
   "source": [
    "# Load and Test Model\n",
    "Test the model on some images in the validation data."
   ]
  },
  {
   "cell_type": "markdown",
   "metadata": {},
   "source": [
    "### Define Dataloader class"
   ]
  },
  {
   "cell_type": "code",
   "execution_count": 3,
   "metadata": {},
   "outputs": [],
   "source": [
    "import cv2\n",
    "import random\n",
    "import time\n",
    "import torch\n",
    "import matplotlib.pyplot as plt\n",
    "import numpy as np\n",
    "from pathlib import Path\n",
    "from utils.datasets import letterbox\n",
    "from utils.torch_utils import select_device, load_classifier, time_synchronized\n",
    "from models.experimental import attempt_load\n",
    "from utils.plots import plot_one_box\n",
    "from utils.general import check_img_size, non_max_suppression, apply_classifier, scale_coords, xyxy2xywh, \\\n",
    "    strip_optimizer, set_logging, increment_path\n",
    "\n",
    "class DataLoader:\n",
    "    def __init__(self, img_paths, img_size=512):\n",
    "        self.img_paths = img_paths\n",
    "        self.img_size = img_size\n",
    "        self.nf = len(img_paths)\n",
    "        \n",
    "    def __iter__(self):\n",
    "        self.count = 0\n",
    "        return self\n",
    "\n",
    "    def __next__(self):\n",
    "        if self.count == self.nf:\n",
    "            raise StopIteration\n",
    "            \n",
    "        # Read image\n",
    "        path = self.img_paths[self.count]\n",
    "        self.count += 1\n",
    "        img0 = cv2.imread(path)  # BGR\n",
    "        assert img0 is not None, 'Image Not Found ' + path\n",
    "        print('image %g/%g %s: ' % (self.count, self.nf, path), end='')\n",
    "\n",
    "        # Padded resize\n",
    "        img = letterbox(img0, new_shape=self.img_size)[0]\n",
    "\n",
    "        # Convert\n",
    "        img = img[:, :, ::-1].transpose(2, 0, 1)  # BGR to RGB, to 3x416x416\n",
    "        img = np.ascontiguousarray(img)\n",
    "\n",
    "        return path, img, img0\n",
    "\n",
    "    def __len__(self):\n",
    "        return self.nf  # number of files\n",
    "    \n",
    "def detect(img_paths):\n",
    "\n",
    "    # Get names and colors\n",
    "    names = model.module.names if hasattr(model, 'module') else model.names\n",
    "    colors = [[random.randint(0, 255) for _ in range(3)] for _ in names]\n",
    "    \n",
    "    # Set Dataloader\n",
    "    dataset = DataLoader(img_paths)\n",
    "\n",
    "    # Run inference\n",
    "    t0 = time.time()\n",
    "    img = torch.zeros((1, 3, imgsz, imgsz), device=device)  # init img\n",
    "    _ = model(img.half() if half else img) if device.type != 'cpu' else None  # run once\n",
    "    for path, img, im0s in dataset:\n",
    "        img = torch.from_numpy(img).to(device)\n",
    "        img = img.half() if half else img.float()  # uint8 to fp16/32\n",
    "        img /= 255.0  # 0 - 255 to 0.0 - 1.0\n",
    "        if img.ndimension() == 3:\n",
    "            img = img.unsqueeze(0)\n",
    "\n",
    "        # Inference\n",
    "        t1 = time_synchronized()\n",
    "        pred = model(img, augment=False)[0]\n",
    "\n",
    "        # Apply NMS\n",
    "        pred = non_max_suppression(pred, conf_thres, iou_thres)\n",
    "        t2 = time_synchronized()\n",
    "\n",
    "        # Process detections\n",
    "        results = []\n",
    "        for i, det in enumerate(pred):  # detections per image\n",
    "            p, s, im0 = Path(path), '', im0s\n",
    "\n",
    "            s += '%gx%g ' % img.shape[2:]  # print string\n",
    "            gn = torch.tensor(im0.shape)[[1, 0, 1, 0]]  # normalization gain whwh\n",
    "            if len(det):\n",
    "                # Rescale boxes from img_size to im0 size\n",
    "                det[:, :4] = scale_coords(img.shape[2:], det[:, :4], im0.shape).round()\n",
    "\n",
    "                # Print results\n",
    "                for c in det[:, -1].unique():\n",
    "                    n = (det[:, -1] == c).sum()  # detections per class\n",
    "                    s += '%g %ss, ' % (n, names[int(c)])  # add to string\n",
    "\n",
    "                # Write results\n",
    "                for *xyxy, conf, cls in reversed(det):\n",
    "                    label = '%s %.2f' % (names[int(cls)], conf)\n",
    "                    plot_one_box(xyxy, im0, label=label, color=colors[int(cls)], line_thickness=3)\n",
    "                results.append(im0)\n",
    "\n",
    "            # Print time (inference + NMS)\n",
    "            print('%sDone. (%.3fs)' % (s, t2 - t1))\n",
    "\n",
    "        # Show results\n",
    "        cv2.imshow(str(p), im0)\n",
    "        if cv2.waitKey(1) == ord('q'):  # q to quit\n",
    "            raise StopIteration\n",
    "                    \n",
    "    print('Done. (%.3fs)' % (time.time() - t0))\n",
    "    cv2.waitKey(0)\n",
    "    cv2.destroyAllWindows()"
   ]
  },
  {
   "cell_type": "markdown",
   "metadata": {},
   "source": [
    "### Load Model"
   ]
  },
  {
   "cell_type": "code",
   "execution_count": 5,
   "metadata": {},
   "outputs": [
    {
     "name": "stdout",
     "output_type": "stream",
     "text": [
      "Fusing layers... \n"
     ]
    }
   ],
   "source": [
    "from utils.torch_utils import select_device, load_classifier, time_synchronized\n",
    "from models.experimental import attempt_load\n",
    "from utils.general import check_img_size, non_max_suppression, apply_classifier, scale_coords, xyxy2xywh, \\\n",
    "    strip_optimizer, set_logging, increment_path\n",
    "\n",
    "device = select_device('')\n",
    "half = device.type != 'cpu'  # half precision only supported on CUDA\n",
    "\n",
    "# Load model\n",
    "imgsz = 512\n",
    "model = attempt_load(r'../runs/train/exp2/weights/best.pt', map_location=device)\n",
    "imgsz = check_img_size(imgsz, s=model.stride.max())\n",
    "if half:\n",
    "    model.half()"
   ]
  },
  {
   "cell_type": "markdown",
   "metadata": {},
   "source": [
    "### Run Inference\n",
    "Select a number of random images from the validation set to run inference on."
   ]
  },
  {
   "cell_type": "code",
   "execution_count": 6,
   "metadata": {},
   "outputs": [],
   "source": [
    "# Inference parameters\n",
    "imgsz = 512\n",
    "conf_thres = 0.25\n",
    "iou_thres = 0.45"
   ]
  },
  {
   "cell_type": "code",
   "execution_count": 7,
   "metadata": {},
   "outputs": [
    {
     "name": "stdout",
     "output_type": "stream",
     "text": [
      "image 1/5 ../darknet2\\images\\val\\pedestrianCrossing_1333395974.avi_image11.jpg: 288x512 1 pedestrianCrossings, Done. (0.063s)\n",
      "image 2/5 ../darknet2\\images\\val\\addedLane_1323821747.avi_image2.jpg: 352x512 1 aheads, Done. (0.048s)\n",
      "image 3/5 ../darknet2\\images\\val\\merge_1323822076.avi_image4.jpg: 352x512 1 merges, Done. (0.031s)\n",
      "image 4/5 ../darknet2\\images\\val\\addedLane_1323816988.avi_image3.jpg: 352x512 1 addedLanes, Done. (0.039s)\n",
      "image 5/5 ../darknet2\\images\\val\\keepRight_1333393691.avi_image20.jpg: 288x512 1 keepRights, 1 speedLimits, Done. (0.031s)\n",
      "Done. (3.620s)\n"
     ]
    }
   ],
   "source": [
    "import glob\n",
    "from random import shuffle\n",
    "from os.path import join\n",
    "\n",
    "img_files = glob.glob(join(data_directory, 'images', 'val','*.jpg'))\n",
    "shuffle(img_files)\n",
    "img_files = img_files[:5]\n",
    "\n",
    "results = detect(img_files)"
   ]
  }
 ],
 "metadata": {
  "kernelspec": {
   "display_name": "Python 3",
   "language": "python",
   "name": "python3"
  },
  "language_info": {
   "codemirror_mode": {
    "name": "ipython",
    "version": 3
   },
   "file_extension": ".py",
   "mimetype": "text/x-python",
   "name": "python",
   "nbconvert_exporter": "python",
   "pygments_lexer": "ipython3",
   "version": "3.8.5"
  }
 },
 "nbformat": 4,
 "nbformat_minor": 4
}
